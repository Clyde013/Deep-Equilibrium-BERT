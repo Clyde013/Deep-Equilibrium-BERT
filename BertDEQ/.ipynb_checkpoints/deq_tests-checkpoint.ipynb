{
 "cells": [
  {
   "cell_type": "markdown",
   "id": "07c89659-fa00-4abe-abdc-baf991481c7f",
   "metadata": {},
   "source": [
    "Root solver that implements broyden root finding and accepts weight tied residual connections"
   ]
  },
  {
   "cell_type": "code",
   "execution_count": 28,
   "id": "2e57e9a6-c3fa-4b40-a431-b04ebc5ec75f",
   "metadata": {},
   "outputs": [],
   "source": [
    "from torchdyn.numerics.root import BroydenFull, TerminationCondition, NaiveSearch, batch_jacobian"
   ]
  },
  {
   "cell_type": "code",
   "execution_count": 29,
   "id": "aa7ecaf8-12e4-4e18-bbd7-1ef065c5cd5c",
   "metadata": {},
   "outputs": [],
   "source": [
    "def broyden_dz_nuts(g, z, alpha=0.1, f_tol=1e-2, f_rtol=1e-1, x_tol=1e-2, x_rtol=1, maxiters=100):\n",
    "\n",
    "    tc = TerminationCondition(f_tol=f_tol, f_rtol=f_rtol, x_tol=x_tol, x_rtol=x_rtol)\n",
    "    solver = BroydenFull\n",
    "\n",
    "    # first evaluation of g(z)\n",
    "    geval = g(z)\n",
    "\n",
    "    # initialize inverse jacobian J^-1g(z)\n",
    "    J_inv = batch_jacobian(g, z).pinverse()\n",
    "\n",
    "    iteration = 0\n",
    "    while iteration <= maxiters:\n",
    "        iteration += 1\n",
    "\n",
    "        # solver step\n",
    "        z, dz, geval, J_inv = solver.step(g=g, z0=z, J_inv=J_inv, geval_old=geval, alpha=alpha)\n",
    "\n",
    "        # line search subroutines\n",
    "        line_searcher = NaiveSearch(g, geval, dz, z)\n",
    "        alpha, phi = line_searcher.search()\n",
    "\n",
    "        # full termination check\n",
    "        code = tc.check(geval, z, dz)\n",
    "        if code > 0: break\n",
    "\n",
    "    return z, logger"
   ]
  },
  {
   "cell_type": "code",
   "execution_count": 3,
   "id": "3a1f440e-430d-4d14-8dca-bd8c2191c1e0",
   "metadata": {},
   "outputs": [],
   "source": [
    "from solvers import broyden, anderson"
   ]
  },
  {
   "cell_type": "code",
   "execution_count": 1,
   "id": "b6ca05f2-64b2-4e1a-90ca-821cae75d456",
   "metadata": {},
   "outputs": [],
   "source": [
    "def anderson_resnet(f, x0, m=5, lam=1e-4, max_iter=50, tol=1e-2, beta = 1.0):\n",
    "    \"\"\" Anderson acceleration for fixed point iteration. \"\"\"\n",
    "    bsz, d, H, W = x0.shape\n",
    "    X = torch.zeros(bsz, m, d*H*W, dtype=x0.dtype, device=x0.device)\n",
    "    F = torch.zeros(bsz, m, d*H*W, dtype=x0.dtype, device=x0.device)\n",
    "    X[:,0], F[:,0] = x0.view(bsz, -1), f(x0).view(bsz, -1)\n",
    "    X[:,1], F[:,1] = F[:,0], f(F[:,0].view_as(x0)).view(bsz, -1)\n",
    "    \n",
    "    H = torch.zeros(bsz, m+1, m+1, dtype=x0.dtype, device=x0.device)\n",
    "    H[:,0,1:] = H[:,1:,0] = 1\n",
    "    y = torch.zeros(bsz, m+1, 1, dtype=x0.dtype, device=x0.device)\n",
    "    y[:,0] = 1\n",
    "    \n",
    "    res = []\n",
    "    for k in range(2, max_iter):\n",
    "        n = min(k, m)\n",
    "        G = F[:,:n]-X[:,:n]\n",
    "        H[:,1:n+1,1:n+1] = torch.bmm(G,G.transpose(1,2)) + lam*torch.eye(n, dtype=x0.dtype,device=x0.device)[None]\n",
    "        alpha = torch.solve(y[:,:n+1], H[:,:n+1,:n+1])[0][:, 1:n+1, 0]   # (bsz x n)\n",
    "        \n",
    "        X[:,k%m] = beta * (alpha[:,None] @ F[:,:n])[:,0] + (1-beta)*(alpha[:,None] @ X[:,:n])[:,0]\n",
    "        F[:,k%m] = f(X[:,k%m].view_as(x0)).view(bsz, -1)\n",
    "        res.append((F[:,k%m] - X[:,k%m]).norm().item()/(1e-5 + F[:,k%m].norm().item()))\n",
    "        if (res[-1] < tol):\n",
    "            break\n",
    "    return X[:,k%m].view_as(x0), res"
   ]
  },
  {
   "cell_type": "markdown",
   "id": "151e7a00-6af9-405f-9575-5b23d4a64b63",
   "metadata": {},
   "source": [
    "Simple resnet layer implementation"
   ]
  },
  {
   "cell_type": "code",
   "execution_count": 2,
   "id": "22c24da3-4c0f-4d4e-a08e-af7052e27c17",
   "metadata": {},
   "outputs": [],
   "source": [
    "import torch\n",
    "import torch.nn as nn\n",
    "import torch.nn.functional as F\n",
    "\n",
    "import matplotlib.pyplot as plt"
   ]
  },
  {
   "cell_type": "code",
   "execution_count": 3,
   "id": "65d3dd20-421d-4fa8-9dc3-d4e548a60910",
   "metadata": {},
   "outputs": [],
   "source": [
    "class ResNetLayer(nn.Module):\n",
    "    def __init__(self, n_channels, n_inner_channels, kernel_size=3, num_groups=8):\n",
    "        super().__init__()\n",
    "        self.conv1 = nn.Conv2d(n_channels, n_inner_channels, kernel_size, padding=kernel_size//2, bias=False)\n",
    "        self.conv2 = nn.Conv2d(n_inner_channels, n_channels, kernel_size, padding=kernel_size//2, bias=False)\n",
    "        self.norm1 = nn.GroupNorm(num_groups, n_inner_channels)\n",
    "        self.norm2 = nn.GroupNorm(num_groups, n_channels)\n",
    "        self.norm3 = nn.GroupNorm(num_groups, n_channels)\n",
    "        self.conv1.weight.data.normal_(0, 0.01)\n",
    "        self.conv2.weight.data.normal_(0, 0.01)\n",
    "        \n",
    "    def forward(self, z, x):\n",
    "        y = self.norm1(F.relu(self.conv1(z)))\n",
    "        return self.norm3(F.relu(z + self.norm2(x + self.conv2(y))))"
   ]
  },
  {
   "cell_type": "code",
   "execution_count": 4,
   "id": "50b79af3-ae63-4811-9654-5df76e3b985b",
   "metadata": {},
   "outputs": [
    {
     "name": "stderr",
     "output_type": "stream",
     "text": [
      "C:\\Users\\weipy\\AppData\\Local\\Temp\\ipykernel_37672\\3942913037.py:19: UserWarning: torch.solve is deprecated in favor of torch.linalg.solveand will be removed in a future PyTorch release.\n",
      "torch.linalg.solve has its arguments reversed and does not return the LU factorization.\n",
      "To get the LU factorization see torch.lu, which can be used with torch.lu_solve or torch.lu_unpack.\n",
      "X = torch.solve(B, A).solution\n",
      "should be replaced with\n",
      "X = torch.linalg.solve(A, B) (Triggered internally at  C:\\actions-runner\\_work\\pytorch\\pytorch\\builder\\windows\\pytorch\\aten\\src\\ATen\\native\\BatchLinearAlgebra.cpp:859.)\n",
      "  alpha = torch.solve(y[:,:n+1], H[:,:n+1,:n+1])[0][:, 1:n+1, 0]   # (bsz x n)\n"
     ]
    }
   ],
   "source": [
    "X = torch.randn(10,64,32,32)\n",
    "f = ResNetLayer(64,128)\n",
    "out = anderson_resnet(lambda Z : f(Z,X), torch.zeros_like(X), tol=1e-4, beta=1.0)"
   ]
  },
  {
   "cell_type": "code",
   "execution_count": 5,
   "id": "81ecd730-8568-4f8b-a816-5b262d808d35",
   "metadata": {},
   "outputs": [
    {
     "data": {
      "text/plain": [
       "Text(0, 0.5, 'Relative residual')"
      ]
     },
     "execution_count": 5,
     "metadata": {},
     "output_type": "execute_result"
    },
    {
     "data": {
      "image/png": "[encoded data removed]",
      "text/plain": [
       "<Figure size 900x600 with 1 Axes>"
      ]
     },
     "metadata": {
      "needs_background": "light"
     },
     "output_type": "display_data"
    }
   ],
   "source": [
    "plt.figure(dpi=150)\n",
    "plt.semilogy(out[1])\n",
    "plt.xlabel(\"Iteration\")\n",
    "plt.ylabel(\"Relative residual\")"
   ]
  },
  {
   "cell_type": "code",
   "execution_count": 6,
   "id": "1ba46389-c542-409d-9ec7-f4527013f987",
   "metadata": {},
   "outputs": [],
   "source": [
    "from transformers.models.roberta.modeling_roberta import RobertaLayer, RobertaEmbeddings\n",
    "from transformers.models.roberta.configuration_roberta import RobertaConfig\n",
    "from transformers import RobertaTokenizer"
   ]
  },
  {
   "cell_type": "code",
   "execution_count": 18,
   "id": "90a4786f-bdf3-4543-9de7-eebbe8d56b85",
   "metadata": {},
   "outputs": [
    {
     "data": {
      "text/plain": [
       "{'input_ids': [0, 2264, 5, 2335, 608, 2], 'attention_mask': [1, 1, 1, 1, 1, 1]}"
      ]
     },
     "execution_count": 18,
     "metadata": {},
     "output_type": "execute_result"
    }
   ],
   "source": [
    "tokenizer = RobertaTokenizer.from_pretrained(\"roberta-base\")\n",
    "encoded = tokenizer(\"What the dog doing\")\n",
    "encoded"
   ]
  },
  {
   "cell_type": "code",
   "execution_count": 8,
   "id": "babeda5c-5733-41a2-9027-1bea61a248e7",
   "metadata": {},
   "outputs": [],
   "source": [
    "class DEQModel(nn.Module):\n",
    "    def __init__(self):\n",
    "        super().__init__()\n",
    "        self.config =  RobertaConfig(is_decoder=False)\n",
    "        self.embedding = RobertaEmbeddings(self.config)\n",
    "        self.f = RobertaLayer(self.config)\n",
    "        \n",
    "        self.f_solver = anderson\n",
    "        self.b_solver = broyden\n",
    "        self.f_thres = 1e-2\n",
    "        self.b_thres = 1e-2\n",
    "    \n",
    "    def forward(self, x, **kwargs):\n",
    "        z0 = torch.zeros_like(x)\n",
    "\n",
    "        # Forward pass\n",
    "        with torch.no_grad():\n",
    "            z_star = self.f_solver(self.f(z), z0, threshold=self.f_thres)['result']\n",
    "            new_z_star = z_star\n",
    "\n",
    "        # (Prepare for) Backward pass, see step 3 above\n",
    "        if self.training:\n",
    "            new_z_star = self.f(z_star.requires_grad_())\n",
    "\n",
    "            def backward_hook(grad):\n",
    "                if self.hook is not None:\n",
    "                    self.hook.remove()\n",
    "                    torch.cuda.synchronize()   # To avoid infinite recursion\n",
    "                # Compute the fixed point of yJ + grad, where J=J_f is the Jacobian of f at z_star\n",
    "                new_grad = self.b_solver(lambda y: autograd.grad(new_z_star, z_star, y, retain_graph=True)[0] + grad,\n",
    "                                         torch.zeros_like(grad), threshold=self.b_thres)['result']\n",
    "                return new_grad\n",
    "\n",
    "            self.hook = new_z_star.register_hook(backward_hook)\n",
    "        return new_z_star"
   ]
  },
  {
   "cell_type": "code",
   "execution_count": 9,
   "id": "bde22272-e360-4fcb-85b7-63db8ef6273d",
   "metadata": {},
   "outputs": [
    {
     "data": {
      "text/plain": [
       "DEQModel(\n",
       "  (embedding): RobertaEmbeddings(\n",
       "    (word_embeddings): Embedding(30522, 768, padding_idx=1)\n",
       "    (position_embeddings): Embedding(512, 768, padding_idx=1)\n",
       "    (token_type_embeddings): Embedding(2, 768)\n",
       "    (LayerNorm): LayerNorm((768,), eps=1e-12, elementwise_affine=True)\n",
       "    (dropout): Dropout(p=0.1, inplace=False)\n",
       "  )\n",
       "  (f): RobertaLayer(\n",
       "    (attention): RobertaAttention(\n",
       "      (self): RobertaSelfAttention(\n",
       "        (query): Linear(in_features=768, out_features=768, bias=True)\n",
       "        (key): Linear(in_features=768, out_features=768, bias=True)\n",
       "        (value): Linear(in_features=768, out_features=768, bias=True)\n",
       "        (dropout): Dropout(p=0.1, inplace=False)\n",
       "      )\n",
       "      (output): RobertaSelfOutput(\n",
       "        (dense): Linear(in_features=768, out_features=768, bias=True)\n",
       "        (LayerNorm): LayerNorm((768,), eps=1e-12, elementwise_affine=True)\n",
       "        (dropout): Dropout(p=0.1, inplace=False)\n",
       "      )\n",
       "    )\n",
       "    (intermediate): RobertaIntermediate(\n",
       "      (dense): Linear(in_features=768, out_features=3072, bias=True)\n",
       "      (intermediate_act_fn): GELUActivation()\n",
       "    )\n",
       "    (output): RobertaOutput(\n",
       "      (dense): Linear(in_features=3072, out_features=768, bias=True)\n",
       "      (LayerNorm): LayerNorm((768,), eps=1e-12, elementwise_affine=True)\n",
       "      (dropout): Dropout(p=0.1, inplace=False)\n",
       "    )\n",
       "  )\n",
       ")"
      ]
     },
     "execution_count": 9,
     "metadata": {},
     "output_type": "execute_result"
    }
   ],
   "source": [
    "x = torch.randn(10, 768, 768)\n",
    "model = DEQModel()\n",
    "model"
   ]
  },
  {
   "cell_type": "code",
   "execution_count": 10,
   "id": "8df1e9fc-49a3-47d4-b997-f0c7f2add534",
   "metadata": {},
   "outputs": [
    {
     "ename": "AttributeError",
     "evalue": "'tuple' object has no attribute 'reshape'",
     "output_type": "error",
     "traceback": [
      "\u001b[1;31m---------------------------------------------------------------------------\u001b[0m",
      "\u001b[1;31mAttributeError\u001b[0m                            Traceback (most recent call last)",
      "Input \u001b[1;32mIn [10]\u001b[0m, in \u001b[0;36m<cell line: 1>\u001b[1;34m()\u001b[0m\n\u001b[1;32m----> 1\u001b[0m \u001b[43mmodel\u001b[49m\u001b[43m(\u001b[49m\u001b[43mx\u001b[49m\u001b[43m)\u001b[49m\n",
      "File \u001b[1;32m~\\anaconda3\\envs\\bert-ode\\lib\\site-packages\\torch\\nn\\modules\\module.py:1110\u001b[0m, in \u001b[0;36mModule._call_impl\u001b[1;34m(self, *input, **kwargs)\u001b[0m\n\u001b[0;32m   1106\u001b[0m \u001b[38;5;66;03m# If we don't have any hooks, we want to skip the rest of the logic in\u001b[39;00m\n\u001b[0;32m   1107\u001b[0m \u001b[38;5;66;03m# this function, and just call forward.\u001b[39;00m\n\u001b[0;32m   1108\u001b[0m \u001b[38;5;28;01mif\u001b[39;00m \u001b[38;5;129;01mnot\u001b[39;00m (\u001b[38;5;28mself\u001b[39m\u001b[38;5;241m.\u001b[39m_backward_hooks \u001b[38;5;129;01mor\u001b[39;00m \u001b[38;5;28mself\u001b[39m\u001b[38;5;241m.\u001b[39m_forward_hooks \u001b[38;5;129;01mor\u001b[39;00m \u001b[38;5;28mself\u001b[39m\u001b[38;5;241m.\u001b[39m_forward_pre_hooks \u001b[38;5;129;01mor\u001b[39;00m _global_backward_hooks\n\u001b[0;32m   1109\u001b[0m         \u001b[38;5;129;01mor\u001b[39;00m _global_forward_hooks \u001b[38;5;129;01mor\u001b[39;00m _global_forward_pre_hooks):\n\u001b[1;32m-> 1110\u001b[0m     \u001b[38;5;28;01mreturn\u001b[39;00m forward_call(\u001b[38;5;241m*\u001b[39m\u001b[38;5;28minput\u001b[39m, \u001b[38;5;241m*\u001b[39m\u001b[38;5;241m*\u001b[39mkwargs)\n\u001b[0;32m   1111\u001b[0m \u001b[38;5;66;03m# Do not call functions when jit is used\u001b[39;00m\n\u001b[0;32m   1112\u001b[0m full_backward_hooks, non_full_backward_hooks \u001b[38;5;241m=\u001b[39m [], []\n",
      "Input \u001b[1;32mIn [8]\u001b[0m, in \u001b[0;36mDEQModel.forward\u001b[1;34m(self, x, **kwargs)\u001b[0m\n\u001b[0;32m     16\u001b[0m \u001b[38;5;66;03m# Forward pass\u001b[39;00m\n\u001b[0;32m     17\u001b[0m \u001b[38;5;28;01mwith\u001b[39;00m torch\u001b[38;5;241m.\u001b[39mno_grad():\n\u001b[1;32m---> 18\u001b[0m     z_star \u001b[38;5;241m=\u001b[39m \u001b[38;5;28;43mself\u001b[39;49m\u001b[38;5;241;43m.\u001b[39;49m\u001b[43mf_solver\u001b[49m\u001b[43m(\u001b[49m\u001b[38;5;28;43;01mlambda\u001b[39;49;00m\u001b[43m \u001b[49m\u001b[43mz\u001b[49m\u001b[43m:\u001b[49m\u001b[43m \u001b[49m\u001b[38;5;28;43mself\u001b[39;49m\u001b[38;5;241;43m.\u001b[39;49m\u001b[43mf\u001b[49m\u001b[43m(\u001b[49m\u001b[43mz\u001b[49m\u001b[43m)\u001b[49m\u001b[43m,\u001b[49m\u001b[43m \u001b[49m\u001b[43mz0\u001b[49m\u001b[43m,\u001b[49m\u001b[43m \u001b[49m\u001b[43mthreshold\u001b[49m\u001b[38;5;241;43m=\u001b[39;49m\u001b[38;5;28;43mself\u001b[39;49m\u001b[38;5;241;43m.\u001b[39;49m\u001b[43mf_thres\u001b[49m\u001b[43m)\u001b[49m[\u001b[38;5;124m'\u001b[39m\u001b[38;5;124mresult\u001b[39m\u001b[38;5;124m'\u001b[39m]\n\u001b[0;32m     19\u001b[0m     new_z_star \u001b[38;5;241m=\u001b[39m z_star\n\u001b[0;32m     21\u001b[0m \u001b[38;5;66;03m# (Prepare for) Backward pass, see step 3 above\u001b[39;00m\n",
      "File \u001b[1;32m~\\OneDrive\\Documents\\GitHub\\implicit-bert\\BertDEQ\\solvers.py:205\u001b[0m, in \u001b[0;36manderson\u001b[1;34m(f, x0, m, lam, threshold, eps, stop_mode, beta, **kwargs)\u001b[0m\n\u001b[0;32m    203\u001b[0m X \u001b[38;5;241m=\u001b[39m torch\u001b[38;5;241m.\u001b[39mzeros(bsz, m, d\u001b[38;5;241m*\u001b[39mL, dtype\u001b[38;5;241m=\u001b[39mx0\u001b[38;5;241m.\u001b[39mdtype, device\u001b[38;5;241m=\u001b[39mx0\u001b[38;5;241m.\u001b[39mdevice)\n\u001b[0;32m    204\u001b[0m F \u001b[38;5;241m=\u001b[39m torch\u001b[38;5;241m.\u001b[39mzeros(bsz, m, d\u001b[38;5;241m*\u001b[39mL, dtype\u001b[38;5;241m=\u001b[39mx0\u001b[38;5;241m.\u001b[39mdtype, device\u001b[38;5;241m=\u001b[39mx0\u001b[38;5;241m.\u001b[39mdevice)\n\u001b[1;32m--> 205\u001b[0m X[:,\u001b[38;5;241m0\u001b[39m], F[:,\u001b[38;5;241m0\u001b[39m] \u001b[38;5;241m=\u001b[39m x0\u001b[38;5;241m.\u001b[39mreshape(bsz, \u001b[38;5;241m-\u001b[39m\u001b[38;5;241m1\u001b[39m), \u001b[43mf\u001b[49m\u001b[43m(\u001b[49m\u001b[43mx0\u001b[49m\u001b[43m)\u001b[49m\u001b[38;5;241;43m.\u001b[39;49m\u001b[43mreshape\u001b[49m(bsz, \u001b[38;5;241m-\u001b[39m\u001b[38;5;241m1\u001b[39m)\n\u001b[0;32m    206\u001b[0m X[:,\u001b[38;5;241m1\u001b[39m], F[:,\u001b[38;5;241m1\u001b[39m] \u001b[38;5;241m=\u001b[39m F[:,\u001b[38;5;241m0\u001b[39m], f(F[:,\u001b[38;5;241m0\u001b[39m]\u001b[38;5;241m.\u001b[39mreshape_as(x0))\u001b[38;5;241m.\u001b[39mreshape(bsz, \u001b[38;5;241m-\u001b[39m\u001b[38;5;241m1\u001b[39m)\n\u001b[0;32m    208\u001b[0m H \u001b[38;5;241m=\u001b[39m torch\u001b[38;5;241m.\u001b[39mzeros(bsz, m\u001b[38;5;241m+\u001b[39m\u001b[38;5;241m1\u001b[39m, m\u001b[38;5;241m+\u001b[39m\u001b[38;5;241m1\u001b[39m, dtype\u001b[38;5;241m=\u001b[39mx0\u001b[38;5;241m.\u001b[39mdtype, device\u001b[38;5;241m=\u001b[39mx0\u001b[38;5;241m.\u001b[39mdevice)\n",
      "\u001b[1;31mAttributeError\u001b[0m: 'tuple' object has no attribute 'reshape'"
     ]
    }
   ],
   "source": [
    "model(x)"
   ]
  }
 ],
 "metadata": {
  "kernelspec": {
   "display_name": "Python 3 (ipykernel)",
   "language": "python",
   "name": "python3"
  },
  "language_info": {
   "codemirror_mode": {
    "name": "ipython",
    "version": 3
   },
   "file_extension": ".py",
   "mimetype": "text/x-python",
   "name": "python",
   "nbconvert_exporter": "python",
   "pygments_lexer": "ipython3",
   "version": "3.9.12"
  }
 },
 "nbformat": 4,
 "nbformat_minor": 5
}
