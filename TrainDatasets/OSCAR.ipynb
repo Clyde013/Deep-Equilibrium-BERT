{
 "cells": [
  {
   "cell_type": "markdown",
   "id": "fa92e016-aba8-4417-8739-836e79ddf7d8",
   "metadata": {},
   "source": [
    "IMAGINE I SPENT 5 HOURS ON TRYING TO GET THE PILE TO WORK WHEN THIS TOOK 1 MINUTE TO SETUP AAAAAAAAAAAAAAAAAAAAAAAAAAAAAAAAAAAAAAAAAAAAAAAA"
   ]
  },
  {
   "cell_type": "code",
   "execution_count": 2,
   "id": "f63bb06c-e4f5-4d8e-9f74-3948ce8f3a48",
   "metadata": {},
   "outputs": [],
   "source": [
    "import datasets\n",
    "from datasets import load_dataset"
   ]
  },
  {
   "cell_type": "code",
   "execution_count": 4,
   "id": "37ef1609-72d7-4613-b5c6-afd6e84a7fc1",
   "metadata": {},
   "outputs": [
    {
     "data": {
      "text/plain": [
       "{'train': <datasets.iterable_dataset.IterableDataset at 0x192ba48ac70>}"
      ]
     },
     "execution_count": 4,
     "metadata": {},
     "output_type": "execute_result"
    }
   ],
   "source": [
    "oscar_dataset = load_dataset(path=\"oscar\", name=\"unshuffled_deduplicated_en\", streaming=True)\n",
    "oscar_dataset"
   ]
  },
  {
   "cell_type": "code",
   "execution_count": 5,
   "id": "ba6313b0-cdb0-47d0-9703-df73ea73c55f",
   "metadata": {},
   "outputs": [
    {
     "data": {
      "text/plain": [
       "{'id': 0,\n",
       " 'text': 'Mtendere Village was inspired by the vision of Chief Napoleon Dzombe, which he shared with John Blanchard during his first visit to Malawi. Chief Napoleon conveyed the desperate need for a program to intervene and care for the orphans and vulnerable children (OVC) in Malawi, and John committed to help.\\nEstablished in honor of John & Lindy’s son, Christopher Blanchard, this particular program is very dear to the Blanchard family. Dana Blanchard, or Mama Dana as she is more commonly referred to at Mtendere, lived on site during the initial development, and she returns each summer to spend the season with her Malawian family. The heart of the program is to be His hands and feet by caring for the children at Mtendere, and meeting their spiritual, physical, academic, and emotional needs.\\nMtendere Village is home to 134 children, living in 16 homes with a housemother and several brothers and sisters. This family environment is one that many of the children have never previously experienced. 100X has also built a library and multipurpose building on the property—giving the children a place to gather together, learn and build community.\\nThe children attend a local primary school and receive afterschool tutoring at home in the afternoon. All of the school fees, uniforms, and supplies are paid for through our sponsorship program. Once children progress to secondary school (9th grade), they attend boarding school and return home during school breaks. Through education, these children will have the resources necessary to provide a better future for themselves and for their families—one where they are never faced with the decision of whether or not to abandon their own children.\\nMaternal Health. Right now, 1 in 18 women in Malawi will die during their lifetime due to complications and the lack of medical care during pregnancy and delivery. For every 100,000 births that occur in Malawi this year, more than 800 mothers will die during delivery or shortly after because of complications. The correlation between high rates of maternal mortality and the number of orphaned children in a country is strong, and Malawi estimates that there are already more than one million orphans.\\n100X Development is working with several key government, nonprofit, and academic partners to develop the Live to Love program. Live to Love will provide education, nutrition and HIV screening to pregnant mothers, and then strengthen the capacity of midwives and community healthcare workers to respond to the needs of mothers in areas where obstetric care is systematically lacking.\\nCommunity Health. Through local collaboration with partners such as Blessings Hospital, Lumbadzi Clinic and the Kamuzu College of Nursing, we provide health assessments and treatment to women and children in the rural villages of Malawi. For many, this is their only access to healthcare.\\nIn some respects, it was the partnership with Blessings Hospital that catalyzed our involvement in Malawi. We are committed to expanding resources available through Blessings, and are currently working with them to provide an outpatient clinic, a free “Under 5” clinic, a weekly pediatric physical therapy session, and a free ART clinic for patients who are HIV+.\\nNursing Education. In a country with only 16 obstetricians serving a population of over 16 million, it is evident that nurses play a critical role in the healthcare system. With high rates of maternal death, and the 10th highest infant mortality rate in the world, it is essential that the hospitals and clinics in Malawi be staffed with fully trained medical personnel. Unfortunately, while there are more nurses than doctors, the human resource shortage also extends to nurses, and services in rural areas are limited.\\nThrough partnership with Kamuzu College of Nursing (Malawi) and Auburn University’s School of Nursing (US), we are working to train and equip nursing students with the resources they need to care for the well-being of every patient.\\nIn 2012, we launched a collaborative training program that allowed students from both universities to work together and implement what they learned in the classroom in clinical settings ranging from home-based care to rural clinics. In just one week, students provided care to more than 600 women and children.\\nWe are also working with the University of Alabama at Birmingham to facilitate the development of a curriculum for a PhD nursing program at Kamuzu College of Nursing. This will be one of the few PhD nursing programs available in in sub-Saharan Africa.\\n100X Development Foundation, Inc. is registered 503 (c)(3) nonprofit organization. Donations are deductable to the full extent allowable under IRS regulations.'}"
      ]
     },
     "execution_count": 5,
     "metadata": {},
     "output_type": "execute_result"
    }
   ],
   "source": [
    "next(iter(oscar_dataset['train']))"
   ]
  }
 ],
 "metadata": {
  "kernelspec": {
   "display_name": "Python 3 (ipykernel)",
   "language": "python",
   "name": "python3"
  },
  "language_info": {
   "codemirror_mode": {
    "name": "ipython",
    "version": 3
   },
   "file_extension": ".py",
   "mimetype": "text/x-python",
   "name": "python",
   "nbconvert_exporter": "python",
   "pygments_lexer": "ipython3",
   "version": "3.9.12"
  }
 },
 "nbformat": 4,
 "nbformat_minor": 5
}
