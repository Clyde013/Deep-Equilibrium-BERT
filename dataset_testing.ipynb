{
 "cells": [
  {
   "cell_type": "code",
   "execution_count": 1,
   "id": "5a557460-be49-4ab4-b8d3-f82864c2661d",
   "metadata": {},
   "outputs": [],
   "source": [
    "from transformers import AutoTokenizer\n",
    "from TrainDatasets.oscar import OSCARDataModule"
   ]
  },
  {
   "cell_type": "code",
   "execution_count": 2,
   "id": "1689021c-8677-43b0-aac5-0cb0d6726f01",
   "metadata": {},
   "outputs": [],
   "source": [
    "dm = OSCARDataModule(tokenizer=AutoTokenizer.from_pretrained(\"bert-base-uncased\"))\n",
    "dm.setup(\"fit\")"
   ]
  },
  {
   "cell_type": "code",
   "execution_count": 3,
   "id": "f75617f9-805f-4cff-8e12-000ba8d1f172",
   "metadata": {},
   "outputs": [
    {
     "data": {
      "text/plain": [
       "{'input_ids': tensor([[  101,  4483, 13239,  ...,     0,     0,     0],\n",
       "        [  101,  2049,  1037,  ...,     0,     0,     0],\n",
       "        [  101,  2178, 10733,  ...,  2032,  4435,   102],\n",
       "        ...,\n",
       "        [  101,  2017,  2064,  ...,   103,  9053,   102],\n",
       "        [  101,  3671,  3161,  ...,  1003,  1998,   102],\n",
       "        [  101, 10886,   103,  ...,  1997,  6398,   102]]), 'token_type_ids': tensor([[0, 0, 0,  ..., 0, 0, 0],\n",
       "        [0, 0, 0,  ..., 0, 0, 0],\n",
       "        [0, 0, 0,  ..., 0, 0, 0],\n",
       "        ...,\n",
       "        [0, 0, 0,  ..., 0, 0, 0],\n",
       "        [0, 0, 0,  ..., 0, 0, 0],\n",
       "        [0, 0, 0,  ..., 0, 0, 0]]), 'attention_mask': tensor([[1, 1, 1,  ..., 0, 0, 0],\n",
       "        [1, 1, 1,  ..., 0, 0, 0],\n",
       "        [1, 1, 1,  ..., 1, 1, 1],\n",
       "        ...,\n",
       "        [1, 1, 1,  ..., 1, 1, 1],\n",
       "        [1, 1, 1,  ..., 1, 1, 1],\n",
       "        [1, 1, 1,  ..., 1, 1, 1]]), 'labels': tensor([[-100, 4483, -100,  ..., -100, -100, -100],\n",
       "        [-100, -100, -100,  ..., -100, -100, -100],\n",
       "        [-100, -100, -100,  ..., -100, -100, -100],\n",
       "        ...,\n",
       "        [-100, -100, -100,  ..., 2005, -100, -100],\n",
       "        [-100, -100, -100,  ..., -100, -100, -100],\n",
       "        [-100, -100, 1996,  ..., -100, 1037, -100]])}"
      ]
     },
     "execution_count": 3,
     "metadata": {},
     "output_type": "execute_result"
    }
   ],
   "source": [
    "next(iter(dm.train_dataloader()))"
   ]
  }
 ],
 "metadata": {
  "kernelspec": {
   "display_name": "Python 3 (ipykernel)",
   "language": "python",
   "name": "python3"
  },
  "language_info": {
   "codemirror_mode": {
    "name": "ipython",
    "version": 3
   },
   "file_extension": ".py",
   "mimetype": "text/x-python",
   "name": "python",
   "nbconvert_exporter": "python",
   "pygments_lexer": "ipython3",
   "version": "3.9.12"
  }
 },
 "nbformat": 4,
 "nbformat_minor": 5
}
