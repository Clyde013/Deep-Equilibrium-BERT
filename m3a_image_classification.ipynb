{
 "cells": [
  {
   "cell_type": "markdown",
   "metadata": {},
   "source": [
    "# Image Classification"
   ]
  },
  {
   "cell_type": "markdown",
   "metadata": {},
   "source": [
    "In this notebook we explore standard image classification on MNIST and CIFAR10 with convolutional Neural ODE variants.\n",
    "* Depth-invariant neural ODE\n",
    "* Galerkin neural ODE (GalNODE)\n",
    "\n",
    "In the following notebooks we'll further develop intuition around `augmentation` strategies that can be easily applied to the models below with the flexible `torchdyn` API. Here, we use simple `0-augmentation`."
   ]
  },
  {
   "cell_type": "code",
   "execution_count": 1,
   "metadata": {},
   "outputs": [],
   "source": [
    "from torchdyn.core import NeuralODE\n",
    "from torchdyn.nn import DataControl, DepthCat, Augmenter, GalConv2d, Fourier"
   ]
  },
  {
   "cell_type": "code",
   "execution_count": 2,
   "metadata": {},
   "outputs": [],
   "source": [
    "import torch\n",
    "import torch.nn as nn\n",
    "from torch.utils.data import DataLoader\n",
    "from torchvision import datasets, transforms\n",
    "\n",
    "import pytorch_lightning as pl\n",
    "from pytorch_lightning.loggers import WandbLogger\n",
    "from torchmetrics.functional import accuracy"
   ]
  },
  {
   "cell_type": "code",
   "execution_count": 3,
   "metadata": {
    "tags": [
     "parameters"
    ]
   },
   "outputs": [],
   "source": [
    "# quick run for automated notebook validation\n",
    "dry_run = False"
   ]
  },
  {
   "cell_type": "code",
   "execution_count": 5,
   "metadata": {},
   "outputs": [
    {
     "data": {
      "text/plain": [
       "device(type='cuda', index=0)"
      ]
     },
     "execution_count": 5,
     "metadata": {},
     "output_type": "execute_result"
    }
   ],
   "source": [
    "device = torch.device(\"cuda:0\" if torch.cuda.is_available() else \"cpu\")\n",
    "device"
   ]
  },
  {
   "cell_type": "code",
   "execution_count": 6,
   "metadata": {},
   "outputs": [
    {
     "name": "stdout",
     "output_type": "stream",
     "text": [
      "Downloading http://yann.lecun.com/exdb/mnist/train-images-idx3-ubyte.gz\n",
      "Downloading http://yann.lecun.com/exdb/mnist/train-images-idx3-ubyte.gz to ../../data/mnist_data\\MNIST\\raw\\train-images-idx3-ubyte.gz\n"
     ]
    },
    {
     "data": {
      "application/vnd.jupyter.widget-view+json": {
       "model_id": "3e69dc14bb9b44959ad420bd4bf836ef",
       "version_major": 2,
       "version_minor": 0
      },
      "text/plain": [
       "  0%|          | 0/9912422 [00:00<?, ?it/s]"
      ]
     },
     "metadata": {},
     "output_type": "display_data"
    },
    {
     "name": "stdout",
     "output_type": "stream",
     "text": [
      "Extracting ../../data/mnist_data\\MNIST\\raw\\train-images-idx3-ubyte.gz to ../../data/mnist_data\\MNIST\\raw\n",
      "\n",
      "Downloading http://yann.lecun.com/exdb/mnist/train-labels-idx1-ubyte.gz\n",
      "Downloading http://yann.lecun.com/exdb/mnist/train-labels-idx1-ubyte.gz to ../../data/mnist_data\\MNIST\\raw\\train-labels-idx1-ubyte.gz\n"
     ]
    },
    {
     "data": {
      "application/vnd.jupyter.widget-view+json": {
       "model_id": "5ca4220047e1488faabf4c17b245cb3d",
       "version_major": 2,
       "version_minor": 0
      },
      "text/plain": [
       "  0%|          | 0/28881 [00:00<?, ?it/s]"
      ]
     },
     "metadata": {},
     "output_type": "display_data"
    },
    {
     "name": "stdout",
     "output_type": "stream",
     "text": [
      "Extracting ../../data/mnist_data\\MNIST\\raw\\train-labels-idx1-ubyte.gz to ../../data/mnist_data\\MNIST\\raw\n",
      "\n",
      "Downloading http://yann.lecun.com/exdb/mnist/t10k-images-idx3-ubyte.gz\n",
      "Downloading http://yann.lecun.com/exdb/mnist/t10k-images-idx3-ubyte.gz to ../../data/mnist_data\\MNIST\\raw\\t10k-images-idx3-ubyte.gz\n"
     ]
    },
    {
     "data": {
      "application/vnd.jupyter.widget-view+json": {
       "model_id": "9549bf9fe867417e86f57bc43515d25b",
       "version_major": 2,
       "version_minor": 0
      },
      "text/plain": [
       "  0%|          | 0/1648877 [00:00<?, ?it/s]"
      ]
     },
     "metadata": {},
     "output_type": "display_data"
    },
    {
     "name": "stdout",
     "output_type": "stream",
     "text": [
      "Extracting ../../data/mnist_data\\MNIST\\raw\\t10k-images-idx3-ubyte.gz to ../../data/mnist_data\\MNIST\\raw\n",
      "\n",
      "Downloading http://yann.lecun.com/exdb/mnist/t10k-labels-idx1-ubyte.gz\n",
      "Downloading http://yann.lecun.com/exdb/mnist/t10k-labels-idx1-ubyte.gz to ../../data/mnist_data\\MNIST\\raw\\t10k-labels-idx1-ubyte.gz\n"
     ]
    },
    {
     "data": {
      "application/vnd.jupyter.widget-view+json": {
       "model_id": "77c0e491b0ff484c9d8db65caba87a08",
       "version_major": 2,
       "version_minor": 0
      },
      "text/plain": [
       "  0%|          | 0/4542 [00:00<?, ?it/s]"
      ]
     },
     "metadata": {},
     "output_type": "display_data"
    },
    {
     "name": "stdout",
     "output_type": "stream",
     "text": [
      "Extracting ../../data/mnist_data\\MNIST\\raw\\t10k-labels-idx1-ubyte.gz to ../../data/mnist_data\\MNIST\\raw\n",
      "\n"
     ]
    }
   ],
   "source": [
    "batch_size=128\n",
    "size=28\n",
    "path_to_data='../../data/mnist_data'\n",
    "\n",
    "all_transforms = transforms.Compose([\n",
    "    transforms.Resize(size),\n",
    "    transforms.ToTensor(),\n",
    "])\n",
    "\n",
    "train_data = datasets.MNIST(path_to_data, train=True, download=True,\n",
    "                            transform=all_transforms)\n",
    "test_data = datasets.MNIST(path_to_data, train=False,\n",
    "                           transform=all_transforms)\n",
    "\n",
    "trainloader = DataLoader(train_data, batch_size=batch_size, shuffle=True)\n",
    "testloader = DataLoader(test_data, batch_size=batch_size, shuffle=False)"
   ]
  },
  {
   "cell_type": "markdown",
   "metadata": {},
   "source": [
    "The **Learner** is then defined as:"
   ]
  },
  {
   "cell_type": "code",
   "execution_count": 10,
   "metadata": {},
   "outputs": [],
   "source": [
    "class Learner(pl.LightningModule):\n",
    "    def __init__(self, model:nn.Module):\n",
    "        super().__init__()\n",
    "        self.lr = 1e-3\n",
    "        self.model = model\n",
    "        self.iters = 0.\n",
    "    \n",
    "    def forward(self, x):\n",
    "        return self.model(x)\n",
    "    \n",
    "    def training_step(self, batch, batch_idx):\n",
    "        self.iters += 1.\n",
    "        x, y = batch        \n",
    "        x, y = x.to(device), y.to(device)\n",
    "        \n",
    "        y_hat = self.model(x)   \n",
    "        \n",
    "        loss = nn.CrossEntropyLoss()(y_hat, y)\n",
    "        \n",
    "        epoch_progress = self.iters / self.loader_len\n",
    "        \n",
    "        acc = accuracy(y_hat, y)\n",
    "        \n",
    "        self.log(\"train_loss\", loss, on_step=True, on_epoch=True, prog_bar=True, logger=True)\n",
    "        self.log(\"train_accuracy\", acc, on_step=True, on_epoch=True, prog_bar=True, logger=True)\n",
    "        \n",
    "        return loss\n",
    "\n",
    "    def test_step(self, batch, batch_nb):\n",
    "        x, y = batch\n",
    "        x, y = x.to(device), y.to(device)\n",
    "        y_hat = self(x)\n",
    "        loss = nn.CrossEntropyLoss()(y_hat, y)\n",
    "        acc = accuracy(y_hat, y)\n",
    "        \n",
    "        self.log(\"test_loss\", loss, on_step=True, on_epoch=True, prog_bar=True, logger=True)\n",
    "        self.log(\"test_accuracy\", acc, on_step=True, on_epoch=True, prog_bar=True, logger=True)\n",
    "        \n",
    "        return loss\n",
    "\n",
    "    def test_epoch_end(self, outputs):\n",
    "        avg_loss = torch.stack([x['test_loss'] for x in outputs]).mean()\n",
    "        avg_acc = torch.stack([x['test_accuracy'] for x in outputs]).mean()\n",
    "        \n",
    "        self.log('avg_test_loss', avg_loss, on_step=True, on_epoch=True, prog_bar=True, logger=True)\n",
    "        self.log('avg_test_accuracy', avg_acc, on_step=True, on_epoch=True, prog_bar=True, logger=True)\n",
    "\n",
    "        return avg_loss\n",
    "    \n",
    "    def configure_optimizers(self):\n",
    "        opt = torch.optim.AdamW(self.parameters(), lr=self.lr, weight_decay=5e-5)\n",
    "        sched = {'scheduler': torch.optim.lr_scheduler.ReduceLROnPlateau(opt),\n",
    "                 'monitor': 'train_loss', \n",
    "                 'interval': 'step',\n",
    "                 'frequency': 10  }\n",
    "        return [opt], [sched]\n",
    "\n",
    "    def train_dataloader(self):\n",
    "        self.loader_len = len(trainloader)\n",
    "        return trainloader\n",
    "\n",
    "    def test_dataloader(self):\n",
    "        self.test_loader_len = len(trainloader)\n",
    "        return testloader"
   ]
  },
  {
   "cell_type": "markdown",
   "metadata": {},
   "source": [
    "## Depth-Invariant Conv Neural ODE "
   ]
  },
  {
   "cell_type": "code",
   "execution_count": 11,
   "metadata": {},
   "outputs": [
    {
     "name": "stdout",
     "output_type": "stream",
     "text": [
      "Your vector field callable (nn.Module) should have both time `t` and state `x` as arguments, we've wrapped it for you.\n"
     ]
    }
   ],
   "source": [
    "class PrintLayer(nn.Module):\n",
    "    def __init__(self, name):\n",
    "        super(PrintLayer, self).__init__()\n",
    "        self.name = name\n",
    "    \n",
    "    def forward(self, x):\n",
    "        print(f\"PrintLayer {self.name}: {x.shape}\")\n",
    "        return x\n",
    "\n",
    "class FinalEvalLayer(nn.Module):\n",
    "    def __init__(self):\n",
    "        super(FinalEvalLayer, self).__init__()\n",
    "    \n",
    "    def forward(self, x):\n",
    "        # y_hat returned by neuralODE has elements from each interval of t_span, we only use the final interval\n",
    "        return x[-1]\n",
    "    \n",
    "func = nn.Sequential(nn.Conv2d(11, 11, 3, padding=1),\n",
    "                     nn.Tanh(),                 \n",
    "                     ).to(device)\n",
    "\n",
    "neuralDE = NeuralODE(func, \n",
    "                     solver='rk4',\n",
    "                     sensitivity='autograd',\n",
    "                     return_t_eval=False).to(device)\n",
    "\n",
    "model = nn.Sequential(Augmenter(augment_dims=10),\n",
    "                      neuralDE,\n",
    "                      FinalEvalLayer(),\n",
    "                      nn.Conv2d(11, 1, 3, padding=1),\n",
    "                      nn.Flatten(),                     \n",
    "                      nn.Linear(28*28, 10)).to(device)\n"
   ]
  },
  {
   "cell_type": "code",
   "execution_count": 12,
   "metadata": {},
   "outputs": [
    {
     "name": "stderr",
     "output_type": "stream",
     "text": [
      "GPU available: True, used: True\n",
      "TPU available: False, using: 0 TPU cores\n",
      "IPU available: False, using: 0 IPUs\n",
      "HPU available: False, using: 0 HPUs\n",
      "LOCAL_RANK: 0 - CUDA_VISIBLE_DEVICES: [0]\n",
      "\n",
      "  | Name  | Type       | Params\n",
      "-------------------------------------\n",
      "0 | model | Sequential | 9.1 K \n",
      "-------------------------------------\n",
      "9.1 K     Trainable params\n",
      "0         Non-trainable params\n",
      "9.1 K     Total params\n",
      "0.036     Total estimated model params size (MB)\n"
     ]
    },
    {
     "data": {
      "application/vnd.jupyter.widget-view+json": {
       "model_id": "bd3d78586db84c19b9f8bb874a0af91e",
       "version_major": 2,
       "version_minor": 0
      },
      "text/plain": [
       "Training: 0it [00:00, ?it/s]"
      ]
     },
     "metadata": {},
     "output_type": "display_data"
    }
   ],
   "source": [
    "learn = Learner(model)\n",
    "trainer = pl.Trainer(max_epochs=3,\n",
    "                     progress_bar_refresh_rate=1,\n",
    "                     gpus=1\n",
    "                     )\n",
    "\n",
    "trainer.fit(learn)"
   ]
  },
  {
   "cell_type": "markdown",
   "metadata": {},
   "source": [
    "3 epochs are not enough. Feel free to keep training and using all kinds of scheduling and optimization tricks :)"
   ]
  },
  {
   "cell_type": "markdown",
   "metadata": {},
   "source": [
    "## Galerkin Data-Controlled Conv Neural ODE (IL-Augmentation)"
   ]
  },
  {
   "cell_type": "code",
   "execution_count": null,
   "metadata": {},
   "outputs": [],
   "source": [
    "func = nn.Sequential(DataControl(),\n",
    "                     DepthCat(1),\n",
    "                     GalConv2d(10+10, 12, 3, padding=1, expfunc=Fourier(5)),\n",
    "                     nn.Softplus(),\n",
    "                     DataControl(),\n",
    "                     DepthCat(1),\n",
    "                     GalConv2d(22, 10, 3, padding=1, expfunc=Fourier(5)),\n",
    "                     nn.Tanh()\n",
    "                     )\n",
    "\n",
    "neuralDE = NeuralODE(func, \n",
    "                   solver='dopri5',\n",
    "                   sensitivity='adjoint',\n",
    "                   s_span=torch.linspace(0, 1, 2)).to(device)\n",
    "\n",
    "model = nn.Sequential(Augmenter(augment_idx=1, augment_func=nn.Conv2d(1, 9, 3, padding=1)),\n",
    "                      neuralDE,\n",
    "                      nn.Conv2d(10, 1, 3, padding=1),\n",
    "                      nn.Flatten(),                     \n",
    "                      nn.Linear(28*28, 10)).to(device)\n"
   ]
  },
  {
   "cell_type": "code",
   "execution_count": null,
   "metadata": {},
   "outputs": [],
   "source": [
    "learn = Learner(model)\n",
    "trainer = pl.Trainer(max_epochs=3,\n",
    "                     progress_bar_refresh_rate=1,\n",
    "                     )\n",
    "\n",
    "trainer.fit(learn)"
   ]
  },
  {
   "cell_type": "markdown",
   "metadata": {},
   "source": [
    "3 epochs are not enough. Feel free to keep training and using all kinds of scheduling and optimization tricks :)"
   ]
  }
 ],
 "metadata": {
  "kernelspec": {
   "display_name": "Python 3 (ipykernel)",
   "language": "python",
   "name": "python3"
  },
  "language_info": {
   "codemirror_mode": {
    "name": "ipython",
    "version": 3
   },
   "file_extension": ".py",
   "mimetype": "text/x-python",
   "name": "python",
   "nbconvert_exporter": "python",
   "pygments_lexer": "ipython3",
   "version": "3.9.12"
  },
  "latex_envs": {
   "LaTeX_envs_menu_present": true,
   "autoclose": false,
   "autocomplete": true,
   "bibliofile": "biblio.bib",
   "cite_by": "apalike",
   "current_citInitial": 1,
   "eqLabelWithNumbers": true,
   "eqNumInitial": 1,
   "hotkeys": {
    "equation": "Ctrl-E",
    "itemize": "Ctrl-I"
   },
   "labels_anchors": false,
   "latex_user_defs": false,
   "report_style_numbering": false,
   "user_envs_cfg": false
  },
  "varInspector": {
   "cols": {
    "lenName": 16,
    "lenType": 16,
    "lenVar": 40
   },
   "kernels_config": {
    "python": {
     "delete_cmd_postfix": "",
     "delete_cmd_prefix": "del ",
     "library": "var_list.py",
     "varRefreshCmd": "print(var_dic_list())"
    },
    "r": {
     "delete_cmd_postfix": ") ",
     "delete_cmd_prefix": "rm(",
     "library": "var_list.r",
     "varRefreshCmd": "cat(var_dic_list()) "
    }
   },
   "types_to_exclude": [
    "module",
    "function",
    "builtin_function_or_method",
    "instance",
    "_Feature"
   ],
   "window_display": false
  }
 },
 "nbformat": 4,
 "nbformat_minor": 4
}
