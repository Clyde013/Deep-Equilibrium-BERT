{
 "cells": [
  {
   "cell_type": "code",
   "execution_count": 1,
   "id": "5a557460-be49-4ab4-b8d3-f82864c2661d",
   "metadata": {},
   "outputs": [],
   "source": [
    "from TrainDatasets.oscar import OSCARDataModule"
   ]
  },
  {
   "cell_type": "code",
   "execution_count": 2,
   "id": "1689021c-8677-43b0-aac5-0cb0d6726f01",
   "metadata": {},
   "outputs": [
    {
     "name": "stdout",
     "output_type": "stream",
     "text": [
      "None\n"
     ]
    }
   ],
   "source": [
    "dm = OSCARDataModule(model_name_or_path=\"bert-base-uncased\")\n",
    "dm.setup(\"fit\")"
   ]
  },
  {
   "cell_type": "code",
   "execution_count": 3,
   "id": "f75617f9-805f-4cff-8e12-000ba8d1f172",
   "metadata": {},
   "outputs": [],
   "source": [
    "next(iter(dm.train_dataloader()))"
   ]
  }
 ],
 "metadata": {
  "kernelspec": {
   "display_name": "Python 3 (ipykernel)",
   "language": "python",
   "name": "python3"
  },
  "language_info": {
   "codemirror_mode": {
    "name": "ipython",
    "version": 3
   },
   "file_extension": ".py",
   "mimetype": "text/x-python",
   "name": "python",
   "nbconvert_exporter": "python",
   "pygments_lexer": "ipython3",
   "version": "3.9.12"
  }
 },
 "nbformat": 4,
 "nbformat_minor": 5
}
